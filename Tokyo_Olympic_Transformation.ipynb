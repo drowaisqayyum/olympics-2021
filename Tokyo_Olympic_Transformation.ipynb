{
 "cells": [
  {
   "cell_type": "code",
   "execution_count": 0,
   "metadata": {
    "application/vnd.databricks.v1+cell": {
     "cellMetadata": {
      "byteLimit": 2048000,
      "rowLimit": 10000
     },
     "inputWidgets": {},
     "nuid": "20e87263-1b7d-4706-bd6d-cff62a15757c",
     "showTitle": false,
     "title": ""
    }
   },
   "outputs": [],
   "source": [
    "from pyspark.sql.functions import col, upper, initcap\n",
    "from pyspark.sql.types import IntegerType, DoubleType, BooleanType, DateType"
   ]
  },
  {
   "cell_type": "markdown",
   "metadata": {
    "application/vnd.databricks.v1+cell": {
     "cellMetadata": {},
     "inputWidgets": {},
     "nuid": "0eee77bf-1eab-469f-b65c-5b70a2e78e07",
     "showTitle": false,
     "title": ""
    }
   },
   "source": [
    "There can be some issues, \n",
    "1. must have an application register\n",
    "2. must have a key vault with permissions to both the user and azure databricks\n",
    "3. give permissions to \"Key Vault Administrator, Key Vault Contributor, Key Vault Reader, Key Vault Secrets Officer\""
   ]
  },
  {
   "cell_type": "code",
   "execution_count": 0,
   "metadata": {
    "application/vnd.databricks.v1+cell": {
     "cellMetadata": {
      "byteLimit": 2048000,
      "rowLimit": 10000
     },
     "inputWidgets": {},
     "nuid": "957da985-2ef7-4772-8f6e-273e4cf4353b",
     "showTitle": false,
     "title": ""
    }
   },
   "outputs": [
    {
     "output_type": "stream",
     "name": "stdout",
     "output_type": "stream",
     "text": [
      "/mnt/tokyo-olympics-data has been unmounted.\n"
     ]
    },
    {
     "output_type": "execute_result",
     "data": {
      "text/plain": [
       "True"
      ]
     },
     "execution_count": 28,
     "metadata": {},
     "output_type": "execute_result"
    }
   ],
   "source": [
    "#https://<databricks-instance>#secrets/createScope\n",
    "\n",
    "# Get the secret values from the secret scope\n",
    "application_id = dbutils.secrets.get(scope=\"key-vault-scope\", key=\"applicationid\")\n",
    "client_secret = dbutils.secrets.get(scope=\"key-vault-scope\", key=\"secretkeyapp01\")\n",
    "tenant_id = dbutils.secrets.get(scope=\"key-vault-scope\", key=\"tenanatid\")\n",
    "\n",
    "# Update the configs dictionary with the secret values\n",
    "configs = {\"fs.azure.account.auth.type\": \"OAuth\",\n",
    "\"fs.azure.account.oauth.provider.type\": \"org.apache.hadoop.fs.azurebfs.oauth2.ClientCredsTokenProvider\",\n",
    "\"fs.azure.account.oauth2.client.id\": application_id,\n",
    "\"fs.azure.account.oauth2.client.secret\": client_secret,\n",
    "\"fs.azure.account.oauth2.client.endpoint\": f\"https://login.microsoftonline.com/{tenant_id}/oauth2/token\"}\n",
    "\n",
    "# Define the mount point\n",
    "mount_point = \"/mnt/tokyo-olympics-data\"\n",
    "\n",
    "try:\n",
    "    dbutils.fs.unmount(mount_point)\n",
    "except:\n",
    "    print(\"Directory was not mounted.\")\n",
    "\n",
    "# Mount the Azure Data Lake Storage using the updated configs\n",
    "dbutils.fs.mount(\n",
    "    source=\"abfss://tokyo-olympics-data@olympicsdataset2021.dfs.core.windows.net\", # container@storageacc\n",
    "    mount_point=mount_point,\n",
    "    extra_configs=configs\n",
    ")\n"
   ]
  },
  {
   "cell_type": "code",
   "execution_count": 0,
   "metadata": {
    "application/vnd.databricks.v1+cell": {
     "cellMetadata": {
      "byteLimit": 2048000,
      "rowLimit": 10000
     },
     "inputWidgets": {},
     "nuid": "da805204-4e2e-4b37-b953-1efa8bc8a750",
     "showTitle": false,
     "title": ""
    }
   },
   "outputs": [
    {
     "output_type": "display_data",
     "data": {
      "text/html": [
       "<style scoped>\n",
       "  .table-result-container {\n",
       "    max-height: 300px;\n",
       "    overflow: auto;\n",
       "  }\n",
       "  table, th, td {\n",
       "    border: 1px solid black;\n",
       "    border-collapse: collapse;\n",
       "  }\n",
       "  th, td {\n",
       "    padding: 5px;\n",
       "  }\n",
       "  th {\n",
       "    text-align: left;\n",
       "  }\n",
       "</style><div class='table-result-container'><table class='table-result'><thead style='background-color: white'><tr><th>path</th><th>name</th><th>size</th><th>modificationTime</th></tr></thead><tbody><tr><td>dbfs:/mnt/tokyo-olympics-data/raw_data/</td><td>raw_data/</td><td>0</td><td>1716548401000</td></tr><tr><td>dbfs:/mnt/tokyo-olympics-data/transformed_data/</td><td>transformed_data/</td><td>0</td><td>1716548420000</td></tr></tbody></table></div>"
      ]
     },
     "metadata": {
      "application/vnd.databricks.v1+output": {
       "addedWidgets": {},
       "aggData": [],
       "aggError": "",
       "aggOverflow": false,
       "aggSchema": [],
       "aggSeriesLimitReached": false,
       "aggType": "",
       "arguments": {},
       "columnCustomDisplayInfos": {},
       "data": [
        [
         "dbfs:/mnt/tokyo-olympics-data/raw_data/",
         "raw_data/",
         0,
         1716548401000
        ],
        [
         "dbfs:/mnt/tokyo-olympics-data/transformed_data/",
         "transformed_data/",
         0,
         1716548420000
        ]
       ],
       "datasetInfos": [],
       "dbfsResultPath": null,
       "isJsonSchema": true,
       "metadata": {
        "isDbfsCommandResult": false
       },
       "overflow": false,
       "plotOptions": {
        "customPlotOptions": {},
        "displayType": "table",
        "pivotAggregation": null,
        "pivotColumns": null,
        "xColumns": null,
        "yColumns": null
       },
       "removedWidgets": [],
       "schema": [
        {
         "metadata": "{}",
         "name": "path",
         "type": "\"string\""
        },
        {
         "metadata": "{}",
         "name": "name",
         "type": "\"string\""
        },
        {
         "metadata": "{}",
         "name": "size",
         "type": "\"long\""
        },
        {
         "metadata": "{}",
         "name": "modificationTime",
         "type": "\"long\""
        }
       ],
       "type": "table"
      }
     },
     "output_type": "display_data"
    }
   ],
   "source": [
    "%fs\n",
    "ls \"/mnt/tokyo-olympics-data/\""
   ]
  },
  {
   "cell_type": "markdown",
   "metadata": {
    "application/vnd.databricks.v1+cell": {
     "cellMetadata": {},
     "inputWidgets": {},
     "nuid": "afe6ed84-efb3-4785-8248-ab2afbdf6ea6",
     "showTitle": false,
     "title": ""
    }
   },
   "source": [
    "so we wont be able to access the files at mount location at first as databricks requires authentication for accessing the files on the azure data lake.\n",
    "\n",
    "first we need to give access to the registered app to give access to the data lake. \n",
    "\n",
    "resource_manager -> IAM -> add role -> Storage Blob Data Contributor -> give access to app01"
   ]
  },
  {
   "cell_type": "code",
   "execution_count": 0,
   "metadata": {
    "application/vnd.databricks.v1+cell": {
     "cellMetadata": {
      "byteLimit": 2048000,
      "rowLimit": 10000
     },
     "inputWidgets": {},
     "nuid": "b266fa2b-e735-4077-9423-0f619e7b517e",
     "showTitle": false,
     "title": ""
    }
   },
   "outputs": [
    {
     "output_type": "execute_result",
     "data": {
      "text/plain": [
       "[FileInfo(path='dbfs:/mnt/tokyo-olympics-data/raw_data/', name='raw_data/', size=0, modificationTime=1716548401000),\n",
       " FileInfo(path='dbfs:/mnt/tokyo-olympics-data/transformed_data/', name='transformed_data/', size=0, modificationTime=1716548420000)]"
      ]
     },
     "execution_count": 36,
     "metadata": {},
     "output_type": "execute_result"
    }
   ],
   "source": [
    "dbutils.fs.ls(\"/mnt/tokyo-olympics-data/\")"
   ]
  },
  {
   "cell_type": "markdown",
   "metadata": {
    "application/vnd.databricks.v1+cell": {
     "cellMetadata": {},
     "inputWidgets": {},
     "nuid": "4a2615a0-c926-4aed-84ae-e74ea248d983",
     "showTitle": false,
     "title": ""
    }
   },
   "source": [
    "# Reading Data"
   ]
  },
  {
   "cell_type": "code",
   "execution_count": 0,
   "metadata": {
    "application/vnd.databricks.v1+cell": {
     "cellMetadata": {
      "byteLimit": 2048000,
      "rowLimit": 10000
     },
     "inputWidgets": {},
     "nuid": "0258cd15-5950-4ab8-a5a5-243e51758d9e",
     "showTitle": false,
     "title": ""
    }
   },
   "outputs": [],
   "source": [
    "path = \"/mnt/tokyo-olympics-data/raw_data\"\n",
    "athletes = spark.read.format(\"csv\").option(\"header\",\"true\").option(\"inferSchema\",\"true\").load(f\"{path}/athletes.csv\")\n",
    "coaches = spark.read.format(\"csv\").option(\"header\",\"true\").option(\"inferSchema\",\"true\").load(f\"{path}/coaches.csv\")\n",
    "entriesgender = spark.read.format(\"csv\").option(\"header\",\"true\").option(\"inferSchema\",\"true\").load(f\"{path}/entries_gender.csv\")\n",
    "medals = spark.read.format(\"csv\").option(\"header\",\"true\").option(\"inferSchema\",\"true\").load(f\"{path}/medals.csv\")\n",
    "teams = spark.read.format(\"csv\").option(\"header\",\"true\").option(\"inferSchema\",\"true\").load(f\"{path}/teams.csv\")\n",
    "     "
   ]
  },
  {
   "cell_type": "markdown",
   "metadata": {
    "application/vnd.databricks.v1+cell": {
     "cellMetadata": {},
     "inputWidgets": {},
     "nuid": "0a06cd50-91a2-4e30-bb2d-b7b1fd300bd9",
     "showTitle": false,
     "title": ""
    }
   },
   "source": [
    "# Printing the Data"
   ]
  },
  {
   "cell_type": "code",
   "execution_count": 0,
   "metadata": {
    "application/vnd.databricks.v1+cell": {
     "cellMetadata": {
      "byteLimit": 2048000,
      "rowLimit": 10000
     },
     "inputWidgets": {},
     "nuid": "b40bc491-e1c8-4f29-bc06-a293b37b31b2",
     "showTitle": false,
     "title": ""
    }
   },
   "outputs": [
    {
     "output_type": "stream",
     "name": "stdout",
     "output_type": "stream",
     "text": [
      "+--------------------+--------------------+-------------------+\n|          PersonName|             Country|         Discipline|\n+--------------------+--------------------+-------------------+\n|     AALERUD KATRINE|              NORWAY|       Cycling Road|\n|         ABAD NESTOR|               SPAIN|Artistic Gymnastics|\n|   ABAGNALE GIOVANNI|               ITALY|             Rowing|\n|      ABALDE ALBERTO|               SPAIN|         Basketball|\n|       ABALDE TAMARA|               SPAIN|         Basketball|\n|           ABALO LUC|              FRANCE|           Handball|\n|        ABAROA CESAR|               CHILE|             Rowing|\n|       ABASS ABOBAKR|               SUDAN|           Swimming|\n|    ABBASALI HAMIDEH|ISLAMIC REPUBLIC ...|             Karate|\n|       ABBASOV ISLAM|          AZERBAIJAN|          Wrestling|\n|        ABBINGH LOIS|         NETHERLANDS|           Handball|\n|         ABBOT EMILY|           AUSTRALIA|Rhythmic Gymnastics|\n|       ABBOTT MONICA|UNITED STATES OF ...|  Baseball/softball|\n|ABDALLA ABUBAKER ...|               QATAR|          Athletics|\n|      ABDALLA MARYAM|               EGYPT|  Artistic Swimming|\n|      ABDALLAH SHAHD|               EGYPT|  Artistic Swimming|\n| ABDALRASOOL MOHAMED|               SUDAN|               Judo|\n|   ABDEL LATIF RADWA|               EGYPT|           Shooting|\n|    ABDEL RAZEK SAMY|               EGYPT|           Shooting|\n|   ABDELAZIZ ABDALLA|               EGYPT|             Karate|\n+--------------------+--------------------+-------------------+\nonly showing top 20 rows\n\nroot\n |-- PersonName: string (nullable = true)\n |-- Country: string (nullable = true)\n |-- Discipline: string (nullable = true)\n\n"
     ]
    }
   ],
   "source": [
    "athletes.show()\n",
    "athletes.printSchema()\n"
   ]
  },
  {
   "cell_type": "code",
   "execution_count": 0,
   "metadata": {
    "application/vnd.databricks.v1+cell": {
     "cellMetadata": {
      "byteLimit": 2048000,
      "rowLimit": 10000
     },
     "inputWidgets": {},
     "nuid": "be97e6f9-865a-4e61-984b-ada99f1fc362",
     "showTitle": false,
     "title": ""
    }
   },
   "outputs": [
    {
     "output_type": "stream",
     "name": "stdout",
     "output_type": "stream",
     "text": [
      "+--------------------+--------------------+-----------------+--------+\n|                Name|             Country|       Discipline|   Event|\n+--------------------+--------------------+-----------------+--------+\n|     ABDELMAGID Wael|               Egypt|         Football|    NULL|\n|           ABE Junya|               Japan|       Volleyball|    NULL|\n|       ABE Katsuhiko|               Japan|       Basketball|    NULL|\n|        ADAMA Cherif|       C�te d'Ivoire|         Football|    NULL|\n|          AGEBA Yuya|               Japan|       Volleyball|    NULL|\n|AIKMAN Siegfried ...|               Japan|           Hockey|     Men|\n|       AL SAADI Kais|             Germany|           Hockey|     Men|\n|       ALAMEDA Lonni|              Canada|Baseball/Softball|Softball|\n|     ALEKNO Vladimir|Islamic Republic ...|       Volleyball|     Men|\n|     ALEKSEEV Alexey|                 ROC|         Handball|   Women|\n|ALLER CARBALLO Ma...|               Spain|       Basketball|    NULL|\n|       ALSHEHRI Saad|        Saudi Arabia|         Football|     Men|\n|           ALY Kamal|               Egypt|         Football|    NULL|\n| AMAYA GAITAN Fabian|         Puerto Rico|       Basketball|    NULL|\n|    AMO AGUADO Pablo|               Spain|         Football|    NULL|\n|   ANDONOVSKI Vlatko|United States of ...|         Football|   Women|\n|        ANNAN Alyson|         Netherlands|           Hockey|   Women|\n|  ARNAU CREUS Xavier|               Japan|           Hockey|   Women|\n|       ARNOLD Graham|           Australia|         Football|     Men|\n|         AXNER Tomas|              Sweden|         Handball|   Women|\n+--------------------+--------------------+-----------------+--------+\nonly showing top 20 rows\n\nroot\n |-- Name: string (nullable = true)\n |-- Country: string (nullable = true)\n |-- Discipline: string (nullable = true)\n |-- Event: string (nullable = true)\n\n"
     ]
    }
   ],
   "source": [
    "coaches.show()\n",
    "coaches.printSchema()"
   ]
  },
  {
   "cell_type": "markdown",
   "metadata": {
    "application/vnd.databricks.v1+cell": {
     "cellMetadata": {},
     "inputWidgets": {},
     "nuid": "66ccffcb-5998-4167-865d-fad8d65151e2",
     "showTitle": false,
     "title": ""
    }
   },
   "source": [
    "# Cleaning"
   ]
  },
  {
   "cell_type": "code",
   "execution_count": 0,
   "metadata": {
    "application/vnd.databricks.v1+cell": {
     "cellMetadata": {
      "byteLimit": 2048000,
      "rowLimit": 10000
     },
     "inputWidgets": {},
     "nuid": "2a9f85f2-6deb-4d1c-81c6-07c9e558416d",
     "showTitle": false,
     "title": ""
    }
   },
   "outputs": [],
   "source": [
    "import pandas as pd"
   ]
  },
  {
   "cell_type": "code",
   "execution_count": 0,
   "metadata": {
    "application/vnd.databricks.v1+cell": {
     "cellMetadata": {
      "byteLimit": 2048000,
      "rowLimit": 10000
     },
     "inputWidgets": {},
     "nuid": "5c905f88-4dc6-457c-ae85-a175a96b3bfe",
     "showTitle": false,
     "title": ""
    }
   },
   "outputs": [],
   "source": [
    "# Clean the 'athletes' DataFrame\n",
    "athletes = athletes.withColumn(\"PersonName\", upper(col(\"PersonName\"))) \\\n",
    "                   .withColumn(\"Country\", upper(col(\"Country\"))) \\\n",
    "                   .withColumn(\"Discipline\", initcap(col(\"Discipline\")))\n",
    "\n",
    "# Clean the 'coaches' DataFrame\n",
    "coaches = coaches.withColumn(\"Name\", upper(col(\"Name\"))) \\\n",
    "                 .withColumn(\"Country\", upper(col(\"Country\"))) \\\n",
    "                 .withColumn(\"Discipline\", initcap(col(\"Discipline\"))) \\\n",
    "                 .withColumn(\"Event\", initcap(col(\"Event\")))\n",
    "\n",
    "# Clean the 'entriesgender' DataFrame\n",
    "entriesgender = entriesgender.withColumn(\"Discipline\", initcap(col(\"Discipline\")))\n",
    "\n",
    "# Clean the 'medals' DataFrame\n",
    "medals = medals.withColumnRenamed(\"Team_Country\", \"TeamCountry\") \\\n",
    "               .withColumn(\"TeamCountry\", upper(col(\"TeamCountry\")))\n",
    "\n",
    "# Clean the 'teams' DataFrame\n",
    "teams = teams.withColumn(\"TeamName\", upper(col(\"TeamName\"))) \\\n",
    "             .withColumn(\"Discipline\", initcap(col(\"Discipline\"))) \\\n",
    "             .withColumn(\"Country\", upper(col(\"Country\"))) \\\n",
    "             .withColumn(\"Event\", initcap(col(\"Event\")))"
   ]
  },
  {
   "cell_type": "markdown",
   "metadata": {
    "application/vnd.databricks.v1+cell": {
     "cellMetadata": {},
     "inputWidgets": {},
     "nuid": "2cf2dbe2-eebd-4e81-9de4-0e244e76f27b",
     "showTitle": false,
     "title": ""
    }
   },
   "source": [
    "# Show Data"
   ]
  },
  {
   "cell_type": "code",
   "execution_count": 0,
   "metadata": {
    "application/vnd.databricks.v1+cell": {
     "cellMetadata": {
      "byteLimit": 2048000,
      "rowLimit": 10000
     },
     "inputWidgets": {},
     "nuid": "2ec11a49-7691-4206-b6fb-388ac7c039c3",
     "showTitle": false,
     "title": ""
    }
   },
   "outputs": [
    {
     "output_type": "stream",
     "name": "stdout",
     "output_type": "stream",
     "text": [
      "+--------------------+--------------------+-------------------+\n|          PersonName|             Country|         Discipline|\n+--------------------+--------------------+-------------------+\n|     AALERUD KATRINE|              NORWAY|       Cycling Road|\n|         ABAD NESTOR|               SPAIN|Artistic Gymnastics|\n|   ABAGNALE GIOVANNI|               ITALY|             Rowing|\n|      ABALDE ALBERTO|               SPAIN|         Basketball|\n|       ABALDE TAMARA|               SPAIN|         Basketball|\n|           ABALO LUC|              FRANCE|           Handball|\n|        ABAROA CESAR|               CHILE|             Rowing|\n|       ABASS ABOBAKR|               SUDAN|           Swimming|\n|    ABBASALI HAMIDEH|ISLAMIC REPUBLIC ...|             Karate|\n|       ABBASOV ISLAM|          AZERBAIJAN|          Wrestling|\n|        ABBINGH LOIS|         NETHERLANDS|           Handball|\n|         ABBOT EMILY|           AUSTRALIA|Rhythmic Gymnastics|\n|       ABBOTT MONICA|UNITED STATES OF ...|  Baseball/softball|\n|ABDALLA ABUBAKER ...|               QATAR|          Athletics|\n|      ABDALLA MARYAM|               EGYPT|  Artistic Swimming|\n|      ABDALLAH SHAHD|               EGYPT|  Artistic Swimming|\n| ABDALRASOOL MOHAMED|               SUDAN|               Judo|\n|   ABDEL LATIF RADWA|               EGYPT|           Shooting|\n|    ABDEL RAZEK SAMY|               EGYPT|           Shooting|\n|   ABDELAZIZ ABDALLA|               EGYPT|             Karate|\n+--------------------+--------------------+-------------------+\nonly showing top 20 rows\n\n+--------------------+--------------------+-----------------+--------+\n|                Name|             Country|       Discipline|   Event|\n+--------------------+--------------------+-----------------+--------+\n|     ABDELMAGID WAEL|               EGYPT|         Football|    NULL|\n|           ABE JUNYA|               JAPAN|       Volleyball|    NULL|\n|       ABE KATSUHIKO|               JAPAN|       Basketball|    NULL|\n|        ADAMA CHERIF|       C�TE D'IVOIRE|         Football|    NULL|\n|          AGEBA YUYA|               JAPAN|       Volleyball|    NULL|\n|AIKMAN SIEGFRIED ...|               JAPAN|           Hockey|     Men|\n|       AL SAADI KAIS|             GERMANY|           Hockey|     Men|\n|       ALAMEDA LONNI|              CANADA|Baseball/softball|Softball|\n|     ALEKNO VLADIMIR|ISLAMIC REPUBLIC ...|       Volleyball|     Men|\n|     ALEKSEEV ALEXEY|                 ROC|         Handball|   Women|\n|ALLER CARBALLO MA...|               SPAIN|       Basketball|    NULL|\n|       ALSHEHRI SAAD|        SAUDI ARABIA|         Football|     Men|\n|           ALY KAMAL|               EGYPT|         Football|    NULL|\n| AMAYA GAITAN FABIAN|         PUERTO RICO|       Basketball|    NULL|\n|    AMO AGUADO PABLO|               SPAIN|         Football|    NULL|\n|   ANDONOVSKI VLATKO|UNITED STATES OF ...|         Football|   Women|\n|        ANNAN ALYSON|         NETHERLANDS|           Hockey|   Women|\n|  ARNAU CREUS XAVIER|               JAPAN|           Hockey|   Women|\n|       ARNOLD GRAHAM|           AUSTRALIA|         Football|     Men|\n|         AXNER TOMAS|              SWEDEN|         Handball|   Women|\n+--------------------+--------------------+-----------------+--------+\nonly showing top 20 rows\n\n+--------------------+------+----+-----+\n|          Discipline|Female|Male|Total|\n+--------------------+------+----+-----+\n|      3x3 Basketball|    32|  32|   64|\n|             Archery|    64|  64|  128|\n| Artistic Gymnastics|    98|  98|  196|\n|   Artistic Swimming|   105|   0|  105|\n|           Athletics|   969|1072| 2041|\n|           Badminton|    86|  87|  173|\n|   Baseball/softball|    90| 144|  234|\n|          Basketball|   144| 144|  288|\n|    Beach Volleyball|    48|  48|   96|\n|              Boxing|   102| 187|  289|\n|        Canoe Slalom|    41|  41|   82|\n|        Canoe Sprint|   123| 126|  249|\n|Cycling Bmx Frees...|    10|   9|   19|\n|  Cycling Bmx Racing|    24|  24|   48|\n|Cycling Mountain ...|    38|  38|   76|\n|        Cycling Road|    70| 131|  201|\n|       Cycling Track|    90|  99|  189|\n|              Diving|    72|  71|  143|\n|          Equestrian|    73| 125|  198|\n|             Fencing|   107| 108|  215|\n+--------------------+------+----+-----+\nonly showing top 20 rows\n\n+----+--------------------+----+------+------+-----+-------------+\n|Rank|         TeamCountry|Gold|Silver|Bronze|Total|Rank by Total|\n+----+--------------------+----+------+------+-----+-------------+\n|   1|UNITED STATES OF ...|  39|    41|    33|  113|            1|\n|   2|PEOPLE'S REPUBLIC...|  38|    32|    18|   88|            2|\n|   3|               JAPAN|  27|    14|    17|   58|            5|\n|   4|       GREAT BRITAIN|  22|    21|    22|   65|            4|\n|   5|                 ROC|  20|    28|    23|   71|            3|\n|   6|           AUSTRALIA|  17|     7|    22|   46|            6|\n|   7|         NETHERLANDS|  10|    12|    14|   36|            9|\n|   8|              FRANCE|  10|    12|    11|   33|           10|\n|   9|             GERMANY|  10|    11|    16|   37|            8|\n|  10|               ITALY|  10|    10|    20|   40|            7|\n|  11|              CANADA|   7|     6|    11|   24|           11|\n|  12|              BRAZIL|   7|     6|     8|   21|           12|\n|  13|         NEW ZEALAND|   7|     6|     7|   20|           13|\n|  14|                CUBA|   7|     3|     5|   15|           18|\n|  15|             HUNGARY|   6|     7|     7|   20|           13|\n|  16|   REPUBLIC OF KOREA|   6|     4|    10|   20|           13|\n|  17|              POLAND|   4|     5|     5|   14|           19|\n|  18|      CZECH REPUBLIC|   4|     4|     3|   11|           23|\n|  19|               KENYA|   4|     4|     2|   10|           25|\n|  20|              NORWAY|   4|     2|     2|    8|           29|\n+----+--------------------+----+------+------+-----+-------------+\nonly showing top 20 rows\n\n+-------------+--------------+--------------------+------------+\n|     TeamName|    Discipline|             Country|       Event|\n+-------------+--------------+--------------------+------------+\n|      BELGIUM|3x3 Basketball|             BELGIUM|         Men|\n|        CHINA|3x3 Basketball|PEOPLE'S REPUBLIC...|         Men|\n|        CHINA|3x3 Basketball|PEOPLE'S REPUBLIC...|       Women|\n|       FRANCE|3x3 Basketball|              FRANCE|       Women|\n|        ITALY|3x3 Basketball|               ITALY|       Women|\n|        JAPAN|3x3 Basketball|               JAPAN|         Men|\n|        JAPAN|3x3 Basketball|               JAPAN|       Women|\n|       LATVIA|3x3 Basketball|              LATVIA|         Men|\n|     MONGOLIA|3x3 Basketball|            MONGOLIA|       Women|\n|  NETHERLANDS|3x3 Basketball|         NETHERLANDS|         Men|\n|       POLAND|3x3 Basketball|              POLAND|         Men|\n|          ROC|3x3 Basketball|                 ROC|         Men|\n|          ROC|3x3 Basketball|                 ROC|       Women|\n|      ROMANIA|3x3 Basketball|             ROMANIA|       Women|\n|       SERBIA|3x3 Basketball|              SERBIA|         Men|\n|UNITED STATES|3x3 Basketball|UNITED STATES OF ...|       Women|\n|    AUSTRALIA|       Archery|           AUSTRALIA|  Men's Team|\n|    AUSTRALIA|       Archery|           AUSTRALIA|  Mixed Team|\n|   BANGLADESH|       Archery|          BANGLADESH|  Mixed Team|\n|      BELARUS|       Archery|             BELARUS|Women's Team|\n+-------------+--------------+--------------------+------------+\nonly showing top 20 rows\n\n"
     ]
    }
   ],
   "source": [
    "athletes.show()\n",
    "coaches.show()\n",
    "entriesgender.show()\n",
    "medals.show()\n",
    "teams.show()"
   ]
  },
  {
   "cell_type": "markdown",
   "metadata": {
    "application/vnd.databricks.v1+cell": {
     "cellMetadata": {},
     "inputWidgets": {},
     "nuid": "0c493aa9-58d0-4c86-80a4-c080c41f9aa8",
     "showTitle": false,
     "title": ""
    }
   },
   "source": [
    "# Show schemas"
   ]
  },
  {
   "cell_type": "code",
   "execution_count": 0,
   "metadata": {
    "application/vnd.databricks.v1+cell": {
     "cellMetadata": {
      "byteLimit": 2048000,
      "rowLimit": 10000
     },
     "inputWidgets": {},
     "nuid": "4a01a7a4-06e3-49eb-b1e6-017766155f56",
     "showTitle": false,
     "title": ""
    }
   },
   "outputs": [
    {
     "output_type": "stream",
     "name": "stdout",
     "output_type": "stream",
     "text": [
      "root\n |-- PersonName: string (nullable = true)\n |-- Country: string (nullable = true)\n |-- Discipline: string (nullable = true)\n\nroot\n |-- Name: string (nullable = true)\n |-- Country: string (nullable = true)\n |-- Discipline: string (nullable = true)\n |-- Event: string (nullable = true)\n\nroot\n |-- Discipline: string (nullable = true)\n |-- Female: integer (nullable = true)\n |-- Male: integer (nullable = true)\n |-- Total: integer (nullable = true)\n\nroot\n |-- Rank: integer (nullable = true)\n |-- TeamCountry: string (nullable = true)\n |-- Gold: integer (nullable = true)\n |-- Silver: integer (nullable = true)\n |-- Bronze: integer (nullable = true)\n |-- Total: integer (nullable = true)\n |-- Rank by Total: integer (nullable = true)\n\nroot\n |-- TeamName: string (nullable = true)\n |-- Discipline: string (nullable = true)\n |-- Country: string (nullable = true)\n |-- Event: string (nullable = true)\n\n"
     ]
    }
   ],
   "source": [
    "athletes.printSchema()\n",
    "coaches.printSchema()\n",
    "entriesgender.printSchema()\n",
    "medals.printSchema()\n",
    "teams.printSchema()"
   ]
  },
  {
   "cell_type": "markdown",
   "metadata": {
    "application/vnd.databricks.v1+cell": {
     "cellMetadata": {},
     "inputWidgets": {},
     "nuid": "e6b41df0-6ce1-4828-bb96-c7d86044a107",
     "showTitle": false,
     "title": ""
    }
   },
   "source": [
    "# Load data to Data lake (transformed)"
   ]
  },
  {
   "cell_type": "code",
   "execution_count": 0,
   "metadata": {
    "application/vnd.databricks.v1+cell": {
     "cellMetadata": {
      "byteLimit": 2048000,
      "rowLimit": 10000
     },
     "inputWidgets": {},
     "nuid": "f8c062da-f475-482d-abde-ecf9b0c54d52",
     "showTitle": false,
     "title": ""
    }
   },
   "outputs": [],
   "source": [
    "# Write the cleaned data to the specified directories\n",
    "path = \"/mnt/tokyo-olympics-data/transformed-data\"\n",
    "athletes.repartition(1).write.mode(\"overwrite\").option(\"header\", \"true\").csv(f\"{path}/athletes\")\n",
    "coaches.repartition(1).write.mode(\"overwrite\").option(\"header\", \"true\").csv(f\"{path}/coaches\")\n",
    "entriesgender.repartition(1).write.mode(\"overwrite\").option(\"header\", \"true\").csv(f\"{path}/entriesgender\")\n",
    "medals.repartition(1).write.mode(\"overwrite\").option(\"header\", \"true\").csv(f\"{path}/medals\")\n",
    "teams.repartition(1).write.mode(\"overwrite\").option(\"header\", \"true\").csv(f\"{path}/teams\")"
   ]
  },
  {
   "cell_type": "code",
   "execution_count": 0,
   "metadata": {
    "application/vnd.databricks.v1+cell": {
     "cellMetadata": {},
     "inputWidgets": {},
     "nuid": "7af63071-328b-4c9a-95cc-751b58688296",
     "showTitle": false,
     "title": ""
    }
   },
   "outputs": [],
   "source": []
  }
 ],
 "metadata": {
  "application/vnd.databricks.v1+notebook": {
   "dashboards": [],
   "environmentMetadata": null,
   "language": "python",
   "notebookMetadata": {
    "mostRecentlyExecutedCommandWithImplicitDF": {
     "commandId": 2466217141792023,
     "dataframes": [
      "_sqldf"
     ]
    },
    "pythonIndentUnit": 4
   },
   "notebookName": "Tokyo Olympic Transformation",
   "widgets": {}
  }
 },
 "nbformat": 4,
 "nbformat_minor": 0
}
